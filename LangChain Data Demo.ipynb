{
 "cells": [
  {
   "attachments": {},
   "cell_type": "markdown",
   "id": "31caaf76",
   "metadata": {},
   "source": [
    "# LangChain Data Demo\n",
    "\n",
    "_2023-04-01_\n",
    "\n",
    "**By Matt Hodges**\n",
    "\n",
    "This Jupyter Notebook demonstrates a variety of data tasks that can be accomplished with the assistance of the [LangChain](https://python.langchain.com/en/latest/index.html) framework. It shows how you can utilize [Chains](https://python.langchain.com/en/latest/modules/chains/getting_started.html), [Agents](https://python.langchain.com/en/latest/modules/agents/getting_started.html), and [Tools](https://python.langchain.com/en/latest/modules/agents/tools/getting_started.html) to work with voter data.\n",
    "\n",
    "LangChain is a flexible framework that can integrate with a [variety of LLMs](https://python.langchain.com/en/latest/reference/integrations.html). This Notebook integrates with OpenAI. To continue, obtain an [OpenAI API Key](https://platform.openai.com/). Copy the `.env.example` file to `.env` at the root of this respository, and set your key there. Since it can be hard to gauge utilization, I also recommend setting spending limits on your OpenAI account.\n",
    "\n",
    "This Notebook was written with LangChain version `0.0.128` using the `text-davinci-003` model from OpenAI.\n",
    "\n",
    "Also, be sure to install the requirements defined in `requirements.txt`:\n",
    "\n",
    "```\n",
    "pip install -r requirements.txt\n",
    "```"
   ]
  },
  {
   "cell_type": "markdown",
   "id": "b677a202",
   "metadata": {},
   "source": [
    "## Gathering Data\n",
    "\n",
    "This Notebook utilizes the [public voter data](https://dl.ncsbe.gov/index.html?prefix=data/) provided by the North Carolina State Board of Elections. We will work with a small subset of the NC voter file."
   ]
  },
  {
   "cell_type": "code",
   "execution_count": 2,
   "id": "5820f828",
   "metadata": {},
   "outputs": [
    {
     "data": {
      "text/plain": [
       "True"
      ]
     },
     "execution_count": 2,
     "metadata": {},
     "output_type": "execute_result"
    }
   ],
   "source": [
    "import sqlite3\n",
    "import tempfile\n",
    "import urllib.request\n",
    "import zipfile\n",
    "\n",
    "import dotenv\n",
    "import pandas as pd\n",
    "from langchain import LLMChain, OpenAI, SQLDatabase, SQLDatabaseChain\n",
    "from langchain.agents import (AgentExecutor, Tool, ZeroShotAgent,\n",
    "                              initialize_agent, load_tools)\n",
    "\n",
    "dotenv.load_dotenv(override=False)"
   ]
  },
  {
   "cell_type": "markdown",
   "id": "37333925",
   "metadata": {},
   "source": [
    "Loading the data into the database is the most code we'll write in this project:"
   ]
  },
  {
   "cell_type": "code",
   "execution_count": 2,
   "id": "4118f0d2",
   "metadata": {},
   "outputs": [],
   "source": [
    "# Public data from NC Elections Board\n",
    "# https://dl.ncsbe.gov/index.html?prefix=data/\n",
    "nc_voter_url = \"https://s3.amazonaws.com/dl.ncsbe.gov/data/ncvoter29.zip\"\n",
    "nc_vhis_url = \"https://s3.amazonaws.com/dl.ncsbe.gov/data/ncvhis29.zip\"\n",
    "\n",
    "\n",
    "# Download the data and extract the Zip\n",
    "extracted = []\n",
    "for datafile in (nc_voter_url, nc_vhis_url):\n",
    "\n",
    "    with tempfile.NamedTemporaryFile(suffix=\".zip\") as tmp_file:\n",
    "        urllib.request.urlretrieve(datafile, tmp_file.name)\n",
    "\n",
    "        with zipfile.ZipFile(tmp_file.name, \"r\") as zip_ref:\n",
    "            zip_ref.extractall(\"./data/\")\n",
    "            extracted += zip_ref.namelist()\n",
    "\n",
    "# Load the data into a local SQLite database\n",
    "# We are not concerned with setting Primary Keys or Foreign Keys\n",
    "for filename in extracted:\n",
    "    table_name = filename.split(\".\")[0]\n",
    "    path = f\"./data/{filename}\"\n",
    "\n",
    "    df = pd.read_csv(path, delimiter=\"\\t\", encoding=\"latin1\")\n",
    "    cols = list(df.columns)\n",
    "    preliminary_col_types = [str(dt) for dt in list(df.dtypes)]\n",
    "    col_types = []\n",
    "    for col in preliminary_col_types:\n",
    "        if col == \"int64\":\n",
    "            col_types.append(\"INTEGER\")\n",
    "        elif col == \"float64\":\n",
    "            col_types.append(\"REAL\")\n",
    "        else:\n",
    "            col_types.append(\"TEXT\")\n",
    "\n",
    "    column_def = ', '.join([f\"{col} {t}\" for col, t in zip(cols, col_types)])\n",
    "\n",
    "    con = sqlite3.connect(\"./data/ncv.db\")\n",
    "    cur = con.cursor()\n",
    "    cur.execute(f\"CREATE TABLE IF NOT EXISTS {table_name} ({column_def});\")\n",
    "\n",
    "    df.to_sql(table_name, con, if_exists=\"replace\", index=False)\n",
    "    con.commit()\n",
    "    con.close()"
   ]
  },
  {
   "attachments": {},
   "cell_type": "markdown",
   "id": "c3540d18",
   "metadata": {},
   "source": [
    "## Using the LLM to Write and Run SQL\n",
    "\n",
    "Now that our voter data is loaded into the database, we're ready to start working with it! We'll start by using the [SQLDatabaseChain](https://python.langchain.com/en/latest/modules/chains/examples/sqlite.html). We'll use it to craft and execute SQL queries. And we'll set it to `verbose` so that we can see and verify its work.\n",
    "\n",
    "**NOTE:** For data-sensitive projects, you can specify `return_direct=True` in the SQLDatabaseChain initialization to directly return the output of the SQL query without any additional formatting. This prevents the LLM from seeing any additional contents within the database (though it does default [init with 3 sample rows](https://github.com/hwchase17/langchain/blob/v0.0.128/langchain/sql_database.py#L22)). Note, however, the LLM still has access to the database scheme (i.e. dialect, table and key names) by default. If this were not set, the results of the query would be sent to the LLM for further summarization."
   ]
  },
  {
   "cell_type": "code",
   "execution_count": 4,
   "id": "8f1c066a",
   "metadata": {},
   "outputs": [],
   "source": [
    "db = SQLDatabase.from_uri(\"sqlite:///./data/ncv.db\")\n",
    "llm = OpenAI(temperature=0)\n",
    "db_chain = SQLDatabaseChain(\n",
    "    llm=llm,\n",
    "    database=db,\n",
    "    verbose=True,  # Show its work\n",
    "    return_direct=True,  # Return the results without sending back to the LLM\n",
    ")"
   ]
  },
  {
   "cell_type": "markdown",
   "id": "54682a22",
   "metadata": {},
   "source": [
    "And now we're ready to roll! Let's try a few!"
   ]
  },
  {
   "cell_type": "code",
   "execution_count": 4,
   "id": "fc15c0a0",
   "metadata": {},
   "outputs": [
    {
     "name": "stdout",
     "output_type": "stream",
     "text": [
      "\n",
      "\n",
      "\u001b[1m> Entering new SQLDatabaseChain chain...\u001b[0m\n",
      "How many voters are there? \n",
      "SQLQuery:\u001b[32;1m\u001b[1;3m SELECT COUNT(*) FROM ncvoter29;\u001b[0m\n",
      "SQLResult: \u001b[33;1m\u001b[1;3m[(125937,)]\u001b[0m\n",
      "\u001b[1m> Finished chain.\u001b[0m\n"
     ]
    },
    {
     "data": {
      "text/plain": [
       "{'query': 'How many voters are there?', 'result': '[(125937,)]'}"
      ]
     },
     "execution_count": 4,
     "metadata": {},
     "output_type": "execute_result"
    }
   ],
   "source": [
    "db_chain(\"How many voters are there?\")"
   ]
  },
  {
   "cell_type": "code",
   "execution_count": 6,
   "id": "2f6ab346",
   "metadata": {},
   "outputs": [
    {
     "name": "stdout",
     "output_type": "stream",
     "text": [
      "\n",
      "\n",
      "\u001b[1m> Entering new SQLDatabaseChain chain...\u001b[0m\n",
      "What is the average age for each party? \n",
      "SQLQuery:\u001b[32;1m\u001b[1;3m SELECT party_cd, AVG(age_at_year_end) FROM ncvoter29 GROUP BY party_cd;\u001b[0m\n",
      "SQLResult: \u001b[33;1m\u001b[1;3m[('DEM', 57.10139401882521), ('GRE', 20.0), ('LIB', 38.924418604651166), ('REP', 55.279202607493254), ('UNA', 47.284671532846716)]\u001b[0m\n",
      "\u001b[1m> Finished chain.\u001b[0m\n"
     ]
    },
    {
     "data": {
      "text/plain": [
       "{'query': 'What is the average age for each party?',\n",
       " 'result': \"[('DEM', 57.10139401882521), ('GRE', 20.0), ('LIB', 38.924418604651166), ('REP', 55.279202607493254), ('UNA', 47.284671532846716)]\"}"
      ]
     },
     "execution_count": 6,
     "metadata": {},
     "output_type": "execute_result"
    }
   ],
   "source": [
    "db_chain(\"What is the average age for each party?\")"
   ]
  },
  {
   "cell_type": "code",
   "execution_count": 7,
   "id": "d4122699",
   "metadata": {},
   "outputs": [
    {
     "name": "stdout",
     "output_type": "stream",
     "text": [
      "\n",
      "\n",
      "\u001b[1m> Entering new SQLDatabaseChain chain...\u001b[0m\n",
      "What is the most common first name of DEM voters who voted in 2020? \n",
      "SQLQuery:\u001b[32;1m\u001b[1;3m SELECT first_name, COUNT(*) AS count FROM ncvoter29 JOIN ncvhis29 ON ncvoter29.voter_reg_num = ncvhis29.voter_reg_num WHERE ncvhis29.election_lbl = '11/03/2020' AND ncvoter29.party_cd = 'DEM' GROUP BY first_name ORDER BY count DESC LIMIT 5;\u001b[0m\n",
      "SQLResult: \u001b[33;1m\u001b[1;3m[('JAMES', 268), ('MARY', 221), ('ROBERT', 215), ('MICHAEL', 174), ('WILLIAM', 167)]\u001b[0m\n",
      "\u001b[1m> Finished chain.\u001b[0m\n"
     ]
    },
    {
     "data": {
      "text/plain": [
       "{'query': 'What is the most common first name of DEM voters who voted in 2020?',\n",
       " 'result': \"[('JAMES', 268), ('MARY', 221), ('ROBERT', 215), ('MICHAEL', 174), ('WILLIAM', 167)]\"}"
      ]
     },
     "execution_count": 7,
     "metadata": {},
     "output_type": "execute_result"
    }
   ],
   "source": [
    "db_chain(\"What is the most common first name of DEM voters who voted in 2020?\")"
   ]
  },
  {
   "cell_type": "code",
   "execution_count": 8,
   "id": "cc77811d",
   "metadata": {},
   "outputs": [
    {
     "name": "stdout",
     "output_type": "stream",
     "text": [
      "\n",
      "\n",
      "\u001b[1m> Entering new SQLDatabaseChain chain...\u001b[0m\n",
      "The unique id is ncid. How many voters have no voting history? \n",
      "SQLQuery:\u001b[32;1m\u001b[1;3m SELECT COUNT(DISTINCT ncvoter29.ncid) FROM ncvoter29 LEFT JOIN ncvhis29 ON ncvoter29.ncid = ncvhis29.ncid WHERE ncvhis29.ncid IS NULL;\u001b[0m\n",
      "SQLResult: \u001b[33;1m\u001b[1;3m[(18215,)]\u001b[0m\n",
      "\u001b[1m> Finished chain.\u001b[0m\n"
     ]
    },
    {
     "data": {
      "text/plain": [
       "{'query': 'The unique id is ncid. How many voters have no voting history?',\n",
       " 'result': '[(18215,)]'}"
      ]
     },
     "execution_count": 8,
     "metadata": {},
     "output_type": "execute_result"
    }
   ],
   "source": [
    "db_chain(\"The unique id is ncid. How many voters have no voting history?\")"
   ]
  },
  {
   "attachments": {},
   "cell_type": "markdown",
   "id": "8e841de0",
   "metadata": {},
   "source": [
    "## Using the LLM to Visualize the Data\n",
    "\n",
    "This is really cool! As you can see, we didn't have to actually tell the LLM much about the database to start querying it with natural language. It was able to infer the schema largely on its own!\n",
    "\n",
    "But the power here doesn't stop just at writing and executing SQL. We can actually _chain_ more utility. Let's get the LLM to use Python to do some data viz. To do that, we'll leverage the [Python REPL](https://python.langchain.com/en/latest/modules/agents/tools/examples/python.html) tool, and define a [custom agent](https://python.langchain.com/en/latest/modules/agents/agents/custom_agent.html) that uses our SQLite database as a tool.\n",
    "\n",
    "⚠️ **NOTE:** this executes LLM-generated Python code! This can be bad if the LLM-generated Python code is harmful. You may wish to execute this in a Virtual Machine or other sandboxed environment."
   ]
  },
  {
   "cell_type": "code",
   "execution_count": 5,
   "id": "55cec215",
   "metadata": {},
   "outputs": [],
   "source": [
    "# Add python_repl to our list of tools\n",
    "tools = load_tools([\"python_repl\"])\n",
    "\n",
    "# Define our voter_data tool\n",
    "\n",
    "# Set a description to help the LLM know when and how to use it.\n",
    "description = (\n",
    "    \"Useful for when you need to answer questions about voters. \"\n",
    "    \"You must not input SQL. Use this more than the Python tool if the question \"\n",
    "    \"is about voter data, like 'how many DEM voters are there?' or 'count the number of precincts'\"\n",
    ")\n",
    "\n",
    "voter_data = Tool(\n",
    "    name=\"Data\",  # We'll just call it 'Data'\n",
    "    func=db_chain.run,\n",
    "    description=description,\n",
    ")\n",
    "\n",
    "tools.append(voter_data)"
   ]
  },
  {
   "cell_type": "markdown",
   "id": "549046a4",
   "metadata": {},
   "source": [
    "We create the custom agent by working with the `ZeroShotAgent`. Most of the modifications come from updating the prompt and specifying the tools."
   ]
  },
  {
   "cell_type": "code",
   "execution_count": 11,
   "id": "633fa84e",
   "metadata": {},
   "outputs": [],
   "source": [
    "# Standard prefix\n",
    "prefix = \"Fulfill the following request as best you can. You have access to the following tools:\"\n",
    "\n",
    "# Remind the agent of the Data tool, and what types of input it expects\n",
    "suffix = (\n",
    "    \"Begin! When looking for data, do not write a SQL query. \"\n",
    "    \"Pass the relevant portion of the request directly to the Data tool in its entirety.\"\n",
    "    \"\\n\\n\"\n",
    "    \"Request: {input}\\n\"\n",
    "    \"{agent_scratchpad}\"\n",
    ")\n",
    "\n",
    "# The agent's prompt is built with the list of tools, prefix, suffix, and input variables\n",
    "prompt = ZeroShotAgent.create_prompt(\n",
    "    tools, prefix=prefix, suffix=suffix, input_variables=[\"input\", \"agent_scratchpad\"]\n",
    ")\n",
    "\n",
    "# Set up the llm_chain\n",
    "llm_chain = LLMChain(llm=llm, prompt=prompt)\n",
    "\n",
    "# Specify the tools the agent may use\n",
    "tool_names = [tool.name for tool in tools]\n",
    "agent = ZeroShotAgent(llm_chain=llm_chain, allowed_tools=tool_names)\n",
    "\n",
    "# Create the AgentExecutor\n",
    "agent_executor = AgentExecutor.from_agent_and_tools(\n",
    "    agent=agent, tools=tools, verbose=True\n",
    ")"
   ]
  },
  {
   "cell_type": "markdown",
   "id": "556525b3",
   "metadata": {},
   "source": [
    "And we can look at the prompt:"
   ]
  },
  {
   "cell_type": "code",
   "execution_count": 12,
   "id": "d09702d3",
   "metadata": {},
   "outputs": [
    {
     "name": "stdout",
     "output_type": "stream",
     "text": [
      "Fulfill the following request as best you can. You have access to the following tools:\n",
      "\n",
      "Python REPL: A Python shell. Use this to execute python commands. Input should be a valid python command. If you want to see the output of a value, you should print it out with `print(...)`.\n",
      "Data: Useful for when you need to answer questions about voters. You must not input SQL. Use this more than the Python tool if the question is about voter data, like 'how many DEM voters are there?' or 'count the number of precints'\n",
      "\n",
      "Use the following format:\n",
      "\n",
      "Question: the input question you must answer\n",
      "Thought: you should always think about what to do\n",
      "Action: the action to take, should be one of [Python REPL, Data]\n",
      "Action Input: the input to the action\n",
      "Observation: the result of the action\n",
      "... (this Thought/Action/Action Input/Observation can repeat N times)\n",
      "Thought: I now know the final answer\n",
      "Final Answer: the final answer to the original input question\n",
      "\n",
      "Begin! When looking for data, do not write a SQL query. Pass the relevant portion of the request directly to the Data tool in its entirety.\n",
      "\n",
      "Request: {input}\n",
      "{agent_scratchpad}\n"
     ]
    }
   ],
   "source": [
    "print(prompt.template)"
   ]
  },
  {
   "attachments": {},
   "cell_type": "markdown",
   "id": "f85138b4",
   "metadata": {},
   "source": [
    "Now let's give it a go! Below you can see the choice the agent makes based on its inputs and observations. Here it decides to query the database, pass the results to python, and utilize `matplotlib` to graph a chart."
   ]
  },
  {
   "cell_type": "code",
   "execution_count": 15,
   "id": "73401e11",
   "metadata": {},
   "outputs": [
    {
     "name": "stdout",
     "output_type": "stream",
     "text": [
      "\n",
      "\n",
      "\u001b[1m> Entering new AgentExecutor chain...\u001b[0m\n",
      "\u001b[32;1m\u001b[1;3m\n",
      "Thought: I need to find the most common first names of DEM voters who voted in 2020\n",
      "Action: Data\n",
      "Action Input: Find the most common first names of DEM voters who voted in 2020\u001b[0m\n",
      "\n",
      "\u001b[1m> Entering new SQLDatabaseChain chain...\u001b[0m\n",
      "Find the most common first names of DEM voters who voted in 2020 \n",
      "SQLQuery:\u001b[32;1m\u001b[1;3m SELECT first_name, COUNT(*) AS count FROM ncvoter29 JOIN ncvhis29 ON ncvoter29.voter_reg_num = ncvhis29.voter_reg_num WHERE ncvhis29.election_lbl = '11/03/2020' AND ncvoter29.party_cd = 'DEM' GROUP BY first_name ORDER BY count DESC LIMIT 5;\u001b[0m\n",
      "SQLResult: \u001b[33;1m\u001b[1;3m[('JAMES', 268), ('MARY', 221), ('ROBERT', 215), ('MICHAEL', 174), ('WILLIAM', 167)]\u001b[0m\n",
      "\u001b[1m> Finished chain.\u001b[0m\n",
      "\n",
      "Observation: \u001b[33;1m\u001b[1;3m[('JAMES', 268), ('MARY', 221), ('ROBERT', 215), ('MICHAEL', 174), ('WILLIAM', 167)]\u001b[0m\n",
      "Thought:\u001b[32;1m\u001b[1;3m I need to visualize this data\n",
      "Action: Python REPL\n",
      "Action Input: import matplotlib.pyplot as plt; names = [('JAMES', 268), ('MARY', 221), ('ROBERT', 215), ('MICHAEL', 174), ('WILLIAM', 167)]; x, y = zip(*names); plt.bar(x, y)\u001b[0m\n",
      "Observation: \u001b[36;1m\u001b[1;3m\u001b[0m\n",
      "Thought:\u001b[32;1m\u001b[1;3m I now know the final answer\n",
      "Final Answer: A bar graph visualizing the most common first names of DEM voters who voted in 2020.\u001b[0m\n",
      "\n",
      "\u001b[1m> Finished chain.\u001b[0m\n"
     ]
    },
    {
     "data": {
      "text/plain": [
       "'A bar graph visualizing the most common first names of DEM voters who voted in 2020.'"
      ]
     },
     "execution_count": 15,
     "metadata": {},
     "output_type": "execute_result"
    },
    {
     "data": {
      "image/png": "[encoded data removed]",
      "text/plain": [
       "<Figure size 640x480 with 1 Axes>"
      ]
     },
     "metadata": {},
     "output_type": "display_data"
    }
   ],
   "source": [
    "request = \"Show a bar graph visualizing the answer to the following question:\" \\\n",
    "        \"What are the most common first names of DEM voters who voted in 2020?\"\n",
    "\n",
    "agent_executor.run(request)"
   ]
  },
  {
   "cell_type": "markdown",
   "id": "52ee8cd7",
   "metadata": {},
   "source": [
    "Very cool! As we see, it took the problem statement, crafted the SQL query, realized it could use the results within Python, and then wrote and executed the code to draw the graph!\n",
    "\n",
    "Let's do one more:"
   ]
  },
  {
   "cell_type": "code",
   "execution_count": 16,
   "id": "333228d6",
   "metadata": {},
   "outputs": [
    {
     "name": "stdout",
     "output_type": "stream",
     "text": [
      "\n",
      "\n",
      "\u001b[1m> Entering new AgentExecutor chain...\u001b[0m\n",
      "\u001b[32;1m\u001b[1;3m\n",
      "Thought: I need to get the data first\n",
      "Action: Data\n",
      "Action Input: What are the most common voting methods in 2020\u001b[0m\n",
      "\n",
      "\u001b[1m> Entering new SQLDatabaseChain chain...\u001b[0m\n",
      "What are the most common voting methods in 2020 \n",
      "SQLQuery:\u001b[32;1m\u001b[1;3m SELECT voting_method, COUNT(*) AS count FROM ncvhis29 WHERE election_desc = '11/03/2020 GENERAL' GROUP BY voting_method ORDER BY count DESC LIMIT 5;\u001b[0m\n",
      "SQLResult: \u001b[33;1m\u001b[1;3m[('ABSENTEE ONESTOP', 56553), ('IN-PERSON', 17872), ('ABSENTEE BY MAIL', 12568), ('ABSENTEE CURBSIDE', 2101), ('TRANSFER', 413)]\u001b[0m\n",
      "\u001b[1m> Finished chain.\u001b[0m\n",
      "\n",
      "Observation: \u001b[33;1m\u001b[1;3m[('ABSENTEE ONESTOP', 56553), ('IN-PERSON', 17872), ('ABSENTEE BY MAIL', 12568), ('ABSENTEE CURBSIDE', 2101), ('TRANSFER', 413)]\u001b[0m\n",
      "Thought:"
     ]
    },
    {
     "data": {
      "image/png": "[encoded data removed]",
      "text/plain": [
       "<Figure size 640x480 with 1 Axes>"
      ]
     },
     "metadata": {},
     "output_type": "display_data"
    },
    {
     "name": "stdout",
     "output_type": "stream",
     "text": [
      "\u001b[32;1m\u001b[1;3m I need to plot this data\n",
      "Action: Python REPL\n",
      "Action Input: import matplotlib.pyplot as plt; labels = [x[0] for x in [('ABSENTEE ONESTOP', 56553), ('IN-PERSON', 17872), ('ABSENTEE BY MAIL', 12568), ('ABSENTEE CURBSIDE', 2101), ('TRANSFER', 413)]]; sizes = [x[1] for x in [('ABSENTEE ONESTOP', 56553), ('IN-PERSON', 17872), ('ABSENTEE BY MAIL', 12568), ('ABSENTEE CURBSIDE', 2101), ('TRANSFER', 413)]]; plt.pie(sizes, labels=labels); plt.show()\u001b[0m\n",
      "Observation: \u001b[36;1m\u001b[1;3m\u001b[0m\n",
      "Thought:\u001b[32;1m\u001b[1;3m I now know the final answer\n",
      "Final Answer: A pie chart showing the most common voting methods in 2020.\u001b[0m\n",
      "\n",
      "\u001b[1m> Finished chain.\u001b[0m\n"
     ]
    },
    {
     "data": {
      "text/plain": [
       "'A pie chart showing the most common voting methods in 2020.'"
      ]
     },
     "execution_count": 16,
     "metadata": {},
     "output_type": "execute_result"
    }
   ],
   "source": [
    "agent_executor.run(\"Plot a pie chart of the most common voting methods in 2020\")"
   ]
  },
  {
   "attachments": {},
   "cell_type": "markdown",
   "id": "2a9c17a1",
   "metadata": {},
   "source": [
    "## Some parting thoughts\n",
    "\n",
    "That OpenAI's LLM is robust enough to craft valid SQL with minimal guidance is astounding. That it can then pipe the query results to a Python environment and build out data viz is almost impossible to believe until you see it.\n",
    "\n",
    "That said, the examples in this Notebook are the product of many hours of trial an error. I'm sure I'll be more efficient next time around. But some of the queries just did not work. Similarly, the LLM sometimes got stuck debugging its own Python code (also astounding that it can do that!) before I decided to move on to other ideas. **This is a tool that should not be left unsupervised.** It may produce bad code. It may hallucinate. The efficiency gains are apparent, but many things just don't work yet. Similarly, the LangChain library is very much still in its infancy, and is rough around the endges.\n",
    "\n",
    "**Most importantly:** We must continue to study and remain vigilant against the unknown biases built into the systems. Neural Networks and LLMs are already black boxes that are hard to assess. Singular platforms acting as the gateway to them only obscurs that more. And then adding all that into auto-generated code only obfuscates the risks further. This Notebook uses real voter data because its accessible and of personal interest to me. Any organizaiton hoping to use these tools for civic impact mush devote significant resources to safety, risk prevention and mitiation, and set hard ethical red lines."
   ]
  }
 ],
 "metadata": {
  "kernelspec": {
   "display_name": "Python 3 (ipykernel)",
   "language": "python",
   "name": "python3"
  },
  "language_info": {
   "codemirror_mode": {
    "name": "ipython",
    "version": 3
   },
   "file_extension": ".py",
   "mimetype": "text/x-python",
   "name": "python",
   "nbconvert_exporter": "python",
   "pygments_lexer": "ipython3",
   "version": "3.10.0"
  }
 },
 "nbformat": 4,
 "nbformat_minor": 5
}
